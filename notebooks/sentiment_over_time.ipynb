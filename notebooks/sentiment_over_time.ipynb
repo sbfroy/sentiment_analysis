{
 "cells": [
  {
   "cell_type": "code",
   "execution_count": 1,
   "metadata": {},
   "outputs": [],
   "source": [
    "import os\n",
    "import re\n",
    "import pandas as pd\n",
    "from pathlib import Path\n",
    "\n",
    "base_dir = Path(os.getcwd()).parent\n",
    "\n",
    "def process_articles(file_path):\n",
    "\n",
    "    all_articles = []\n",
    "\n",
    "    with file_path.open ('r', encoding='utf-8', errors='ignore') as file:\n",
    "        content = file.read()\n",
    "        articles = content.split('##U') # articles are separated by ##U\n",
    "        for article in articles[1:]:\n",
    "            match = re.search(r'##A (\\d+)>[\\s\\S]+?##M (\\d+)>[\\s\\S]+?##D (\\d+)>', article)\n",
    "            paper_match = re.search(r'##B (\\w+)>', article)\n",
    "            if match and paper_match:\n",
    "                year, month, day = match.groups()\n",
    "                paper = paper_match.group(1)\n",
    "                text_start = article.find('##D') + len('##D 00>') # skip the metadata\n",
    "                text = article[text_start:].strip()\n",
    "                text = re.sub(r'^Publisert:.*$', '', text, flags=re.MULTILINE).strip()\n",
    "                all_articles.append({\n",
    "                    'date' : f'{year}-{month}-{day}',\n",
    "                    'paper': paper,\n",
    "                    'text': text\n",
    "                })\n",
    "    return all_articles\n",
    "\n",
    "all_articles = []\n",
    "\n",
    "base_path = base_dir / 'data' / 'norsk_aviskorpus_v2' / '2'\n",
    "\n",
    "for paper_folder in base_path.iterdir():\n",
    "    for nested_folder in paper_folder.iterdir():\n",
    "        for year_folder in nested_folder.iterdir():\n",
    "            for day_file in year_folder.glob('*.html4'):\n",
    "                all_articles.extend(process_articles(day_file))\n",
    "\n",
    "df = pd.DataFrame(all_articles)"
   ]
  },
  {
   "cell_type": "code",
   "execution_count": 2,
   "metadata": {},
   "outputs": [],
   "source": [
    "def preprocess_text(text):\n",
    "    text = text.lower()\n",
    "    text = re.sub(r'\\s+', ' ', text) \n",
    "    text = re.sub(r'\\s([?.!\"](?:\\s|$))', r'\\1', text)  \n",
    "    return text.strip()\n",
    "\n",
    "for column in df.columns:\n",
    "    df[column] = df[column].apply(preprocess_text)"
   ]
  },
  {
   "cell_type": "code",
   "execution_count": 3,
   "metadata": {},
   "outputs": [
    {
     "name": "stdout",
     "output_type": "stream",
     "text": [
      "3. plass til rally-petter petter solberg endte p 3. plass i rally new zealand. petter solberg humper avgrde sndag i rally new zealand. foto: ross land/ap nordmannen var sjansels siste dag og tapte ytterligere 10 sekunder til vinner sebastien loeb og toer marcus grnholm. likevel beholder solberg (26 poeng) ledelsen i vm sammenlagt med ett poeng foran loeb (25). franskmannen var i en klasse for seg og vant ogs rallyets siste fartsprve. til slutt skilte 49,8 sekunder til toer grnholm, som kjrte sterkt og banket petter solberg med 18,9 sekunder sammenlagt. firer ble belgieren franois duval, nesten minuttet bak solberg. neste vm-runde finner sted p sardinia i italia om tre uker. ( ntb)\n"
     ]
    }
   ],
   "source": [
    "print(df.iloc[0]['text'])"
   ]
  },
  {
   "cell_type": "code",
   "execution_count": 4,
   "metadata": {},
   "outputs": [],
   "source": [
    "df = df[df['text'].str.len() > 0] # remove empty articles\n",
    "df = df[df['date'].str[:2] != '11'] # remove articles from 2011, because it is missing some months"
   ]
  },
  {
   "cell_type": "code",
   "execution_count": 5,
   "metadata": {},
   "outputs": [],
   "source": [
    "df['id'] = range(len(df)) # add an id column"
   ]
  },
  {
   "cell_type": "code",
   "execution_count": 6,
   "metadata": {},
   "outputs": [],
   "source": [
    "df.to_csv(base_dir / 'data' / 'all_articles_from_norsk_aviskorpus.csv', index=False)"
   ]
  }
 ],
 "metadata": {
  "kernelspec": {
   "display_name": "ml_env",
   "language": "python",
   "name": "python3"
  },
  "language_info": {
   "codemirror_mode": {
    "name": "ipython",
    "version": 3
   },
   "file_extension": ".py",
   "mimetype": "text/x-python",
   "name": "python",
   "nbconvert_exporter": "python",
   "pygments_lexer": "ipython3",
   "version": "3.12.2"
  }
 },
 "nbformat": 4,
 "nbformat_minor": 2
}
