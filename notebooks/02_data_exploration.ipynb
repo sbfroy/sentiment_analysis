{
 "cells": [
  {
   "cell_type": "code",
   "execution_count": 1,
   "metadata": {},
   "outputs": [
    {
     "name": "stderr",
     "output_type": "stream",
     "text": [
      "Tokenizing texts: 100%|██████████| 43437/43437 [04:14<00:00, 170.64it/s]\n"
     ]
    },
    {
     "name": "stdout",
     "output_type": "stream",
     "text": [
      "       token_length\n",
      "count  43437.000000\n",
      "mean     706.799342\n",
      "std      452.973931\n",
      "min        7.000000\n",
      "25%      396.000000\n",
      "50%      629.000000\n",
      "75%      888.000000\n",
      "max     6466.000000\n"
     ]
    }
   ],
   "source": [
    "from transformers import AutoTokenizer\n",
    "import pandas as pd\n",
    "from tqdm import tqdm\n",
    "from pathlib import Path\n",
    "import os\n",
    "import re\n",
    "\n",
    "tokenizer = AutoTokenizer.from_pretrained('NbAiLab/nb-bert-base')\n",
    "\n",
    "base_dir = Path(os.getcwd()).parent\n",
    "train_dir = base_dir / 'data' / 'train'\n",
    "dev_dir = base_dir / 'data' / 'dev'\n",
    "test_dir = base_dir / 'data' / 'test'\n",
    "\n",
    "def preprocess_text(text):\n",
    "    text = text.lower()\n",
    "    text = re.sub(r'\\s+', ' ', text) \n",
    "    text = re.sub(r'\\s([?.!\"](?:\\s|$))', r'\\1', text)  \n",
    "    return text.strip()\n",
    "\n",
    "all_texts = []\n",
    "\n",
    "for folder in [train_dir, dev_dir, test_dir]:\n",
    "    for file in folder.iterdir():\n",
    "        with open(file, 'r', encoding='utf-8') as f:\n",
    "            all_texts.append(f.read())\n",
    "\n",
    "all_texts = [preprocess_text(text) for text in all_texts]\n",
    "\n",
    "tokenized_lengths = []\n",
    "for text in tqdm(all_texts, desc=\"Tokenizing texts\"):\n",
    "    length = len(tokenizer.encode(text, add_special_tokens=True))\n",
    "    tokenized_lengths.append(length)\n",
    "\n",
    "df = pd.DataFrame({\"text\": all_texts, \"token_length\": tokenized_lengths})\n",
    "\n",
    "print(df.describe())  "
   ]
  },
  {
   "cell_type": "code",
   "execution_count": 2,
   "metadata": {},
   "outputs": [
    {
     "name": "stdout",
     "output_type": "stream",
     "text": [
      "score\n",
      "5    12614\n",
      "4    11304\n",
      "3     6004\n",
      "2     2287\n",
      "6     2161\n",
      "1      379\n",
      "Name: count, dtype: int64\n"
     ]
    }
   ],
   "source": [
    "import json\n",
    "\n",
    "with open (base_dir / 'data' / 'metadata.json', 'r', encoding='utf-8') as file:\n",
    "    metadata = json.load(file)\n",
    "\n",
    "def create_df(folder_path):\n",
    "\n",
    "    folder_path = Path(folder_path)\n",
    "    \n",
    "    data = {'text': [], 'score': []}\n",
    "\n",
    "    for file_path in folder_path.iterdir():\n",
    "        file_id = file_path.stem\n",
    "        if file_id in metadata:\n",
    "            with file_path.open ('r', encoding='utf-8') as file:\n",
    "                data['text'].append(preprocess_text(file.read()))\n",
    "                data['score'].append(metadata[file_id]['rating'])\n",
    "                \n",
    "    return pd.DataFrame(data)\n",
    "                     \n",
    "train_df = create_df(train_dir)\n",
    "print(train_df['score'].value_counts())"
   ]
  },
  {
   "cell_type": "code",
   "execution_count": 4,
   "metadata": {},
   "outputs": [
    {
     "data": {
      "text/plain": [
       "'master of none s01 mesterlig av aziz ansari. jeg blir truffet av alt aziz ansari kaster mot meg i hans nye komiserie master of none. jeg elsker musikken, digger humoren og storkoser meg med den laidbacke stemningen. jeg liker barene de henger på, jakkene de bruker, nabolagene de rusler rundt i, venn'"
      ]
     },
     "execution_count": 4,
     "metadata": {},
     "output_type": "execute_result"
    }
   ],
   "source": [
    "all_texts[240][:300]"
   ]
  }
 ],
 "metadata": {
  "kernelspec": {
   "display_name": "ml_env",
   "language": "python",
   "name": "python3"
  },
  "language_info": {
   "codemirror_mode": {
    "name": "ipython",
    "version": 3
   },
   "file_extension": ".py",
   "mimetype": "text/x-python",
   "name": "python",
   "nbconvert_exporter": "python",
   "pygments_lexer": "ipython3",
   "version": "3.12.2"
  }
 },
 "nbformat": 4,
 "nbformat_minor": 2
}
